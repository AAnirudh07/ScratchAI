{
 "cells": [
  {
   "cell_type": "code",
   "execution_count": 1,
   "id": "c6739181",
   "metadata": {},
   "outputs": [],
   "source": [
    "#Importing Libraries\n",
    "import numpy as np\n",
    "import pandas as pd\n",
    "import matplotlib.pyplot as plt"
   ]
  },
  {
   "cell_type": "code",
   "execution_count": 2,
   "id": "4b2e9289",
   "metadata": {},
   "outputs": [
    {
     "data": {
      "text/html": [
       "<div>\n",
       "<style scoped>\n",
       "    .dataframe tbody tr th:only-of-type {\n",
       "        vertical-align: middle;\n",
       "    }\n",
       "\n",
       "    .dataframe tbody tr th {\n",
       "        vertical-align: top;\n",
       "    }\n",
       "\n",
       "    .dataframe thead th {\n",
       "        text-align: right;\n",
       "    }\n",
       "</style>\n",
       "<table border=\"1\" class=\"dataframe\">\n",
       "  <thead>\n",
       "    <tr style=\"text-align: right;\">\n",
       "      <th></th>\n",
       "      <th>Temperature</th>\n",
       "      <th>Revenue</th>\n",
       "    </tr>\n",
       "  </thead>\n",
       "  <tbody>\n",
       "    <tr>\n",
       "      <th>0</th>\n",
       "      <td>24.566884</td>\n",
       "      <td>534.799028</td>\n",
       "    </tr>\n",
       "    <tr>\n",
       "      <th>1</th>\n",
       "      <td>26.005191</td>\n",
       "      <td>625.190122</td>\n",
       "    </tr>\n",
       "    <tr>\n",
       "      <th>2</th>\n",
       "      <td>27.790554</td>\n",
       "      <td>660.632289</td>\n",
       "    </tr>\n",
       "    <tr>\n",
       "      <th>3</th>\n",
       "      <td>20.595335</td>\n",
       "      <td>487.706960</td>\n",
       "    </tr>\n",
       "    <tr>\n",
       "      <th>4</th>\n",
       "      <td>11.503498</td>\n",
       "      <td>316.240194</td>\n",
       "    </tr>\n",
       "  </tbody>\n",
       "</table>\n",
       "</div>"
      ],
      "text/plain": [
       "   Temperature     Revenue\n",
       "0    24.566884  534.799028\n",
       "1    26.005191  625.190122\n",
       "2    27.790554  660.632289\n",
       "3    20.595335  487.706960\n",
       "4    11.503498  316.240194"
      ]
     },
     "execution_count": 2,
     "metadata": {},
     "output_type": "execute_result"
    }
   ],
   "source": [
    "#Importing Data\n",
    "data = pd.read_csv('./data.csv')\n",
    "data.head()"
   ]
  },
  {
   "cell_type": "code",
   "execution_count": 3,
   "id": "d82aa83e",
   "metadata": {},
   "outputs": [
    {
     "data": {
      "text/plain": [
       "<matplotlib.collections.PathCollection at 0x1eb7f66d070>"
      ]
     },
     "execution_count": 3,
     "metadata": {},
     "output_type": "execute_result"
    },
    {
     "data": {
      "image/png": "[encoded data removed]",
      "text/plain": [
       "<Figure size 432x288 with 1 Axes>"
      ]
     },
     "metadata": {
      "needs_background": "light"
     },
     "output_type": "display_data"
    }
   ],
   "source": [
    "#Plotting the graph (Temperature v/s Revenue)\n",
    "plt.scatter(data.Temperature, data.Revenue, marker = \"x\")"
   ]
  },
  {
   "cell_type": "code",
   "execution_count": 4,
   "id": "d4fe112b",
   "metadata": {},
   "outputs": [],
   "source": [
    "#Now to start predicting, we need to fit the model\n",
    "def fitSLR(X,y):\n",
    "    #Preprocessing\n",
    "    X = pd.DataFrame(X)\n",
    "    y = pd.DataFrame(y)\n",
    "    data = pd.concat([X,y], axis=1)\n",
    "    \n",
    "    #Calculating mean for both Target and Feature Variable\n",
    "    meanX = float(X.mean())\n",
    "    meanY = float(y.mean())\n",
    "    \n",
    "    #Calculating `x-mean` and `y-mean` for each data point\n",
    "    data['x-mean'] = X - meanX\n",
    "    data['y-mean'] = y - meanY\n",
    "    \n",
    "    #Also calculating product(`x-mean, y-mean`) and square(x-mean)\n",
    "    data['mul'] = data['x-mean'] * data['y-mean']\n",
    "    data['sq'] = np.power(data['x-mean'], 2)\n",
    "    \n",
    "    #Summation of data['mul'] and data['sq']\n",
    "    sumXY = data['mul'].sum()\n",
    "    sumX = data['sq'].sum()\n",
    "    \n",
    "    #Calculating the coefficients or weights\n",
    "    global b1, b0\n",
    "    b1 = sumXY/sumX\n",
    "    b0 = meanY - b1 * meanX\n",
    "    \n",
    "    #We will be returning the coefficients/weights from this function\n",
    "    return b0, b1"
   ]
  },
  {
   "cell_type": "code",
   "execution_count": 5,
   "id": "23c56837",
   "metadata": {},
   "outputs": [
    {
     "data": {
      "text/plain": [
       "(44.831267090563585, 21.44362551068026)"
      ]
     },
     "execution_count": 5,
     "metadata": {},
     "output_type": "execute_result"
    }
   ],
   "source": [
    "fitSLR(data.Temperature, data.Revenue)"
   ]
  },
  {
   "cell_type": "code",
   "execution_count": 6,
   "id": "d304d98d",
   "metadata": {},
   "outputs": [],
   "source": [
    "#Now that we have fitted the data, we will now have to predict!\n",
    "def predict(X):\n",
    "    predList, y = [], []\n",
    "    for i in range(0, len(X)):\n",
    "        predList.append(X[i])\n",
    "    for i in predList:\n",
    "        itemY = b0 + b1 * i\n",
    "        y.append(itemY)\n",
    "    return y"
   ]
  },
  {
   "cell_type": "code",
   "execution_count": 7,
   "id": "71d56166",
   "metadata": {},
   "outputs": [
    {
     "data": {
      "text/plain": [
       "[571.634336557209,\n",
       " 602.4768474448201,\n",
       " 640.7614972276658,\n",
       " 486.4699191697509,\n",
       " 291.50796254571776]"
      ]
     },
     "execution_count": 7,
     "metadata": {},
     "output_type": "execute_result"
    }
   ],
   "source": [
    "#Let us predict on the first five elements of the dataset, usually there should be train-test-validation dataset,\n",
    "#As this is just a demo, we will be predicting on the given dataset itself!\n",
    "predict(data.Temperature.head())"
   ]
  },
  {
   "cell_type": "code",
   "execution_count": 8,
   "id": "ffc7bb28",
   "metadata": {},
   "outputs": [
    {
     "data": {
      "text/plain": [
       "0    534.799028\n",
       "1    625.190122\n",
       "2    660.632289\n",
       "3    487.706960\n",
       "4    316.240194\n",
       "Name: Revenue, dtype: float64"
      ]
     },
     "execution_count": 8,
     "metadata": {},
     "output_type": "execute_result"
    }
   ],
   "source": [
    "#Let us see what is our original values for the same!\n",
    "data.Revenue.head()"
   ]
  },
  {
   "cell_type": "code",
   "execution_count": 10,
   "id": "304735ea",
   "metadata": {},
   "outputs": [],
   "source": [
    "#Predicting on the whole dataset\n",
    "predList = predict(data.Temperature)"
   ]
  },
  {
   "cell_type": "code",
   "execution_count": 11,
   "id": "b9042109",
   "metadata": {},
   "outputs": [
    {
     "data": {
      "text/plain": [
       "[<matplotlib.lines.Line2D at 0x1eb7f7caf10>]"
      ]
     },
     "execution_count": 11,
     "metadata": {},
     "output_type": "execute_result"
    },
    {
     "data": {
      "image/png": "[encoded data removed]",
      "text/plain": [
       "<Figure size 432x288 with 1 Axes>"
      ]
     },
     "metadata": {
      "needs_background": "light"
     },
     "output_type": "display_data"
    }
   ],
   "source": [
    "plt.scatter(data.Temperature, data.Revenue, marker='x') #Original Data\n",
    "plt.plot(data.Temperature, predList, color='red') #Best Fit Line"
   ]
  },
  {
   "cell_type": "code",
   "execution_count": null,
   "id": "46ab2315",
   "metadata": {},
   "outputs": [],
   "source": []
  }
 ],
 "metadata": {
  "kernelspec": {
   "display_name": "Python 3",
   "language": "python",
   "name": "python3"
  },
  "language_info": {
   "codemirror_mode": {
    "name": "ipython",
    "version": 3
   },
   "file_extension": ".py",
   "mimetype": "text/x-python",
   "name": "python",
   "nbconvert_exporter": "python",
   "pygments_lexer": "ipython3",
   "version": "3.9.4"
  }
 },
 "nbformat": 4,
 "nbformat_minor": 5
}
