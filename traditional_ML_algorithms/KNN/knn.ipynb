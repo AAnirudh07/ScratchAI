{
 "cells": [
  {
   "cell_type": "code",
   "execution_count": 1,
   "id": "78beab45",
   "metadata": {},
   "outputs": [],
   "source": [
    "import pandas as pd\n",
    "dataset = pd.read_csv(\"iphone_purchase_records.csv\")\n",
    "X = dataset.iloc[:,:-1].values\n",
    "y = dataset.iloc[:, 3].values"
   ]
  },
  {
   "cell_type": "code",
   "execution_count": 2,
   "id": "684195f9",
   "metadata": {},
   "outputs": [],
   "source": [
    "from sklearn.preprocessing import LabelEncoder\n",
    "labelEncoder_gender =  LabelEncoder()\n",
    "X[:,0] = labelEncoder_gender.fit_transform(X[:,0])"
   ]
  },
  {
   "cell_type": "code",
   "execution_count": 13,
   "id": "089d71ed",
   "metadata": {},
   "outputs": [],
   "source": [
    "import numpy as np\n",
    "X = np.vstack(X[:, :]).astype(np.float64)"
   ]
  },
  {
   "cell_type": "code",
   "execution_count": 16,
   "id": "af1f2e70",
   "metadata": {},
   "outputs": [],
   "source": [
    "from sklearn.model_selection import train_test_split\n",
    "X_train, X_test, y_train, y_test = train_test_split(X, y, test_size=0.25, random_state=0)"
   ]
  },
  {
   "cell_type": "code",
   "execution_count": 17,
   "id": "d4ccf876",
   "metadata": {},
   "outputs": [],
   "source": [
    "from sklearn.preprocessing import StandardScaler\n",
    "sc_X = StandardScaler()\n",
    "X_train = sc_X.fit_transform(X_train)\n",
    "X_test = sc_X.transform(X_test)"
   ]
  },
  {
   "cell_type": "code",
   "execution_count": 18,
   "id": "0123de93",
   "metadata": {},
   "outputs": [
    {
     "data": {
      "text/plain": [
       "KNeighborsClassifier()"
      ]
     },
     "execution_count": 18,
     "metadata": {},
     "output_type": "execute_result"
    }
   ],
   "source": [
    "from sklearn.neighbors import KNeighborsClassifier\n",
    "classifier = KNeighborsClassifier(n_neighbors=5, metric=\"minkowski\",p=2)\n",
    "classifier.fit(X_train, y_train)"
   ]
  },
  {
   "cell_type": "code",
   "execution_count": 19,
   "id": "440ccb95",
   "metadata": {},
   "outputs": [],
   "source": [
    "y_pred = classifier.predict(X_test)"
   ]
  },
  {
   "cell_type": "code",
   "execution_count": 20,
   "id": "a5e4b130",
   "metadata": {},
   "outputs": [
    {
     "name": "stdout",
     "output_type": "stream",
     "text": [
      "[[64  4]\n",
      " [ 3 29]]\n",
      "Accuracy score: 0.93\n",
      "Precision score: 0.8787878787878788\n",
      "Recall score: 0.90625\n"
     ]
    }
   ],
   "source": [
    "from sklearn import metrics\n",
    "cm = metrics.confusion_matrix(y_test, y_pred) \n",
    "print(cm)\n",
    "accuracy = metrics.accuracy_score(y_test, y_pred) \n",
    "print(\"Accuracy score:\",accuracy)\n",
    "precision = metrics.precision_score(y_test, y_pred) \n",
    "print(\"Precision score:\",precision)\n",
    "recall = metrics.recall_score(y_test, y_pred) \n",
    "print(\"Recall score:\",recall)"
   ]
  },
  {
   "cell_type": "code",
   "execution_count": null,
   "id": "ec44242a",
   "metadata": {},
   "outputs": [],
   "source": []
  }
 ],
 "metadata": {
  "kernelspec": {
   "display_name": "Python 3 (ipykernel)",
   "language": "python",
   "name": "python3"
  },
  "language_info": {
   "codemirror_mode": {
    "name": "ipython",
    "version": 3
   },
   "file_extension": ".py",
   "mimetype": "text/x-python",
   "name": "python",
   "nbconvert_exporter": "python",
   "pygments_lexer": "ipython3",
   "version": "3.9.12"
  }
 },
 "nbformat": 4,
 "nbformat_minor": 5
}
