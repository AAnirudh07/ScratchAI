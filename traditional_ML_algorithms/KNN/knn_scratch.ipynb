{
 "cells": [
  {
   "cell_type": "markdown",
   "id": "f7913ddb",
   "metadata": {},
   "source": [
    "# KNN"
   ]
  },
  {
   "cell_type": "markdown",
   "id": "04001095",
   "metadata": {},
   "source": [
    "### Import libraries and load data"
   ]
  },
  {
   "cell_type": "code",
   "execution_count": 589,
   "id": "9e5efc38",
   "metadata": {},
   "outputs": [
    {
     "data": {
      "text/html": [
       "<div>\n",
       "<style scoped>\n",
       "    .dataframe tbody tr th:only-of-type {\n",
       "        vertical-align: middle;\n",
       "    }\n",
       "\n",
       "    .dataframe tbody tr th {\n",
       "        vertical-align: top;\n",
       "    }\n",
       "\n",
       "    .dataframe thead th {\n",
       "        text-align: right;\n",
       "    }\n",
       "</style>\n",
       "<table border=\"1\" class=\"dataframe\">\n",
       "  <thead>\n",
       "    <tr style=\"text-align: right;\">\n",
       "      <th></th>\n",
       "      <th>Gender</th>\n",
       "      <th>Age</th>\n",
       "      <th>Salary</th>\n",
       "      <th>Purchase Iphone</th>\n",
       "    </tr>\n",
       "  </thead>\n",
       "  <tbody>\n",
       "    <tr>\n",
       "      <th>0</th>\n",
       "      <td>0</td>\n",
       "      <td>19</td>\n",
       "      <td>19000</td>\n",
       "      <td>0</td>\n",
       "    </tr>\n",
       "    <tr>\n",
       "      <th>1</th>\n",
       "      <td>0</td>\n",
       "      <td>35</td>\n",
       "      <td>20000</td>\n",
       "      <td>0</td>\n",
       "    </tr>\n",
       "    <tr>\n",
       "      <th>2</th>\n",
       "      <td>1</td>\n",
       "      <td>26</td>\n",
       "      <td>43000</td>\n",
       "      <td>0</td>\n",
       "    </tr>\n",
       "    <tr>\n",
       "      <th>3</th>\n",
       "      <td>1</td>\n",
       "      <td>27</td>\n",
       "      <td>57000</td>\n",
       "      <td>0</td>\n",
       "    </tr>\n",
       "    <tr>\n",
       "      <th>4</th>\n",
       "      <td>0</td>\n",
       "      <td>19</td>\n",
       "      <td>76000</td>\n",
       "      <td>0</td>\n",
       "    </tr>\n",
       "  </tbody>\n",
       "</table>\n",
       "</div>"
      ],
      "text/plain": [
       "   Gender  Age  Salary  Purchase Iphone\n",
       "0       0   19   19000                0\n",
       "1       0   35   20000                0\n",
       "2       1   26   43000                0\n",
       "3       1   27   57000                0\n",
       "4       0   19   76000                0"
      ]
     },
     "execution_count": 589,
     "metadata": {},
     "output_type": "execute_result"
    }
   ],
   "source": [
    "import numpy as np\n",
    "import pandas as pd \n",
    "dataset = pd.read_csv(\"iphone_purchase_records.csv\")\n",
    "X = dataset.iloc[:,:-1].values\n",
    "y = dataset.iloc[:, 3].values\n",
    "dataset.Gender=dataset.Gender.map({'Female':1,'Male':0})\n",
    "dataset.head(5)"
   ]
  },
  {
   "cell_type": "markdown",
   "id": "563af95f",
   "metadata": {},
   "source": [
    "### Data pre-processing and selection"
   ]
  },
  {
   "cell_type": "code",
   "execution_count": 590,
   "id": "987cf418",
   "metadata": {},
   "outputs": [],
   "source": [
    "from sklearn.preprocessing import LabelEncoder\n",
    "labelEncoder_gender =  LabelEncoder()\n",
    "X[:,0] = labelEncoder_gender.fit_transform(X[:,0])\n",
    "\n",
    "\n",
    "import numpy as np\n",
    "X = np.vstack(X[:, :]).astype(np.float64)"
   ]
  },
  {
   "cell_type": "markdown",
   "id": "17b7ef6d",
   "metadata": {},
   "source": [
    "### Training and Testing data"
   ]
  },
  {
   "cell_type": "code",
   "execution_count": 591,
   "id": "54b5a638",
   "metadata": {},
   "outputs": [],
   "source": [
    "train_size = int(dataset.shape[0]*0.60)"
   ]
  },
  {
   "cell_type": "code",
   "execution_count": 592,
   "id": "b8269a8e",
   "metadata": {},
   "outputs": [
    {
     "name": "stdout",
     "output_type": "stream",
     "text": [
      "Train_Shape:  (240, 4)\n",
      "Test_Shape:  (160, 4)\n"
     ]
    }
   ],
   "source": [
    "train_df = dataset.iloc[:train_size,:] \n",
    "test_df = dataset.iloc[train_size:,:]\n",
    "train = dataset.values\n",
    "test = test_df.values\n",
    "y_true = test[:,-1]\n",
    "print('Train_Shape: ',train_df.shape)\n",
    "print('Test_Shape: ',test_df.shape)"
   ]
  },
  {
   "cell_type": "markdown",
   "id": "29ed97be",
   "metadata": {},
   "source": [
    "### KNN in 3 Steps:\n",
    "1. Measure distance (Euclidean Distance or Manhattan Distance)\n",
    "2. Get nearest neighbours\n",
    "3. Predict Classifier"
   ]
  },
  {
   "cell_type": "markdown",
   "id": "7dca8c39",
   "metadata": {},
   "source": [
    "#### Step 1. Euclidian distance\n",
    "- Measuring Distance using Euclidean Distance:\n",
    "  <b>Mathematical formula √ (x2 − x1)2 + (y2 − y1)2</b>"
   ]
  },
  {
   "cell_type": "code",
   "execution_count": 593,
   "id": "b1513390",
   "metadata": {},
   "outputs": [],
   "source": [
    "from math import sqrt\n",
    "def euclidean_distance(x_test, x_train):\n",
    "    distance = 0\n",
    "    for i in range(len(x_test)-1):\n",
    "        distance += (x_test[i]-x_train[i])**2\n",
    "    return sqrt(distance)"
   ]
  },
  {
   "cell_type": "markdown",
   "id": "b1a34285",
   "metadata": {},
   "source": [
    "#### Step 2. Getting the nearest neighbours"
   ]
  },
  {
   "cell_type": "code",
   "execution_count": 594,
   "id": "1f98eeb0",
   "metadata": {},
   "outputs": [],
   "source": [
    "def get_neighbors(x_test, x_train, num_neighbors):\n",
    "    distances = []\n",
    "    data = []\n",
    "    for i in x_train:\n",
    "        distances.append(euclidean_distance(x_test,i))\n",
    "        data.append(i)\n",
    "    distances = np.array(distances)\n",
    "    data = np.array(data)\n",
    "    sort_indexes = distances.argsort()             #argsort() function returns indices by sorting distances data in ascending order\n",
    "    data = data[sort_indexes]                      #modifying our data based on sorted indices, so that we can get the nearest neightbours\n",
    "    return data[:num_neighbors]     "
   ]
  },
  {
   "cell_type": "markdown",
   "id": "2cede536",
   "metadata": {},
   "source": [
    "#### Step 3. Predicting the classifier of which our new data point belongs to."
   ]
  },
  {
   "cell_type": "code",
   "execution_count": 595,
   "id": "47f2b306",
   "metadata": {},
   "outputs": [],
   "source": [
    "def prediction(x_test, x_train, num_neighbors):\n",
    "    classes = []\n",
    "    neighbors = get_neighbors(x_test, x_train, num_neighbors)\n",
    "    for i in neighbors:\n",
    "        classes.append(i[-1])\n",
    "    predicted = max(classes, key=classes.count)              #taking the most repeated class\n",
    "    return predicted"
   ]
  },
  {
   "cell_type": "markdown",
   "id": "0cd1aaed",
   "metadata": {},
   "source": [
    "### Measuring the accuracy. So that we can know how accurate our model would predict new data samples"
   ]
  },
  {
   "cell_type": "code",
   "execution_count": 596,
   "id": "79514b57",
   "metadata": {},
   "outputs": [],
   "source": [
    "def accuracy(y_true, y_pred):\n",
    "    num_correct = 0\n",
    "    for i in range(len(y_true)):\n",
    "        if y_true[i]==y_pred[i]:\n",
    "            num_correct+=1\n",
    "    accuracy = num_correct/len(y_true)\n",
    "    return accuracy"
   ]
  },
  {
   "cell_type": "markdown",
   "id": "e2a6f61d",
   "metadata": {},
   "source": [
    "### Predicting test data"
   ]
  },
  {
   "cell_type": "code",
   "execution_count": 597,
   "id": "9f2a120a",
   "metadata": {},
   "outputs": [],
   "source": [
    "y_pred = []\n",
    "for i in test:\n",
    "    y_pred.append(prediction(i, train, 4))\n",
    "#y_pred"
   ]
  },
  {
   "cell_type": "code",
   "execution_count": 598,
   "id": "0540ffa2",
   "metadata": {},
   "outputs": [],
   "source": [
    "accuracy = accuracy(y_true, y_pred)"
   ]
  },
  {
   "cell_type": "code",
   "execution_count": 599,
   "id": "dc33f30b",
   "metadata": {},
   "outputs": [
    {
     "data": {
      "text/plain": [
       "89.375"
      ]
     },
     "execution_count": 599,
     "metadata": {},
     "output_type": "execute_result"
    }
   ],
   "source": [
    "accuracy*100"
   ]
  },
  {
   "cell_type": "code",
   "execution_count": 601,
   "id": "dd8a5169",
   "metadata": {},
   "outputs": [
    {
     "data": {
      "text/html": [
       "<div>\n",
       "<style scoped>\n",
       "    .dataframe tbody tr th:only-of-type {\n",
       "        vertical-align: middle;\n",
       "    }\n",
       "\n",
       "    .dataframe tbody tr th {\n",
       "        vertical-align: top;\n",
       "    }\n",
       "\n",
       "    .dataframe thead th {\n",
       "        text-align: right;\n",
       "    }\n",
       "</style>\n",
       "<table border=\"1\" class=\"dataframe\">\n",
       "  <thead>\n",
       "    <tr style=\"text-align: right;\">\n",
       "      <th></th>\n",
       "      <th>Gender</th>\n",
       "      <th>Age</th>\n",
       "      <th>Salary</th>\n",
       "      <th>Purchase Iphone</th>\n",
       "    </tr>\n",
       "  </thead>\n",
       "  <tbody>\n",
       "    <tr>\n",
       "      <th>267</th>\n",
       "      <td>0</td>\n",
       "      <td>37</td>\n",
       "      <td>74000</td>\n",
       "      <td>0</td>\n",
       "    </tr>\n",
       "    <tr>\n",
       "      <th>368</th>\n",
       "      <td>0</td>\n",
       "      <td>38</td>\n",
       "      <td>71000</td>\n",
       "      <td>0</td>\n",
       "    </tr>\n",
       "    <tr>\n",
       "      <th>344</th>\n",
       "      <td>0</td>\n",
       "      <td>47</td>\n",
       "      <td>105000</td>\n",
       "      <td>1</td>\n",
       "    </tr>\n",
       "    <tr>\n",
       "      <th>338</th>\n",
       "      <td>1</td>\n",
       "      <td>38</td>\n",
       "      <td>55000</td>\n",
       "      <td>0</td>\n",
       "    </tr>\n",
       "    <tr>\n",
       "      <th>277</th>\n",
       "      <td>0</td>\n",
       "      <td>49</td>\n",
       "      <td>88000</td>\n",
       "      <td>1</td>\n",
       "    </tr>\n",
       "  </tbody>\n",
       "</table>\n",
       "</div>"
      ],
      "text/plain": [
       "     Gender  Age  Salary  Purchase Iphone\n",
       "267       0   37   74000                0\n",
       "368       0   38   71000                0\n",
       "344       0   47  105000                1\n",
       "338       1   38   55000                0\n",
       "277       0   49   88000                1"
      ]
     },
     "execution_count": 601,
     "metadata": {},
     "output_type": "execute_result"
    }
   ],
   "source": [
    "test_df.sample(5)"
   ]
  },
  {
   "cell_type": "code",
   "execution_count": null,
   "id": "31c8e63d",
   "metadata": {},
   "outputs": [],
   "source": []
  }
 ],
 "metadata": {
  "kernelspec": {
   "display_name": "Python 3 (ipykernel)",
   "language": "python",
   "name": "python3"
  },
  "language_info": {
   "codemirror_mode": {
    "name": "ipython",
    "version": 3
   },
   "file_extension": ".py",
   "mimetype": "text/x-python",
   "name": "python",
   "nbconvert_exporter": "python",
   "pygments_lexer": "ipython3",
   "version": "3.9.12"
  }
 },
 "nbformat": 4,
 "nbformat_minor": 5
}
